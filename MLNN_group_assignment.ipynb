{
  "nbformat": 4,
  "nbformat_minor": 0,
  "metadata": {
    "colab": {
      "provenance": [],
      "gpuType": "T4"
    },
    "kernelspec": {
      "name": "python3",
      "display_name": "Python 3"
    },
    "language_info": {
      "name": "python"
    },
    "gpuClass": "standard"
  },
  "cells": [
    {
      "cell_type": "code",
      "source": [
        "import tensorflow as tf\n",
        "import numpy as np\n",
        "from tensorflow.keras.models import Sequential\n",
        "from tensorflow.keras.layers import Conv2D, MaxPooling2D, Flatten, Dense, Dropout\n",
        "from tensorflow.keras.optimizers import Adam\n",
        "from tensorflow.keras.preprocessing.image import ImageDataGenerator, load_img, img_to_array\n",
        "from tensorflow.keras.callbacks import EarlyStopping\n",
        "from tensorflow.keras.callbacks import Callback\n",
        "import os\n",
        "import matplotlib.pyplot as plt\n",
        "import warnings\n",
        "from google.colab import drive, files \n",
        "warnings.filterwarnings('ignore')"
      ],
      "metadata": {
        "id": "3sdfqBL1l-LB"
      },
      "execution_count": 1,
      "outputs": []
    },
    {
      "cell_type": "code",
      "source": [
        "class EarlyStoppingByAccuracy(Callback):\n",
        "    def __init__(self, threshold):\n",
        "        super(EarlyStoppingByAccuracy, self).__init__()\n",
        "        self.threshold = threshold\n",
        "\n",
        "    def on_epoch_end(self, epoch, logs=None):\n",
        "        val_acc = logs.get('val_accuracy')\n",
        "        if val_acc is not None and val_acc >= self.threshold:\n",
        "            self.model.stop_training = True\n",
        "            print(f\"\\nReached {self.threshold * 100}% validation accuracy. Stopping training.\")\n",
        "\n",
        "class BatchAccuracyLogger(Callback):\n",
        "    def __init__(self):\n",
        "        super(BatchAccuracyLogger, self).__init__()\n",
        "        self.batch_accuracies = []\n",
        "\n",
        "    def on_train_batch_end(self, batch, logs=None):\n",
        "        train_acc = logs.get('accuracy')\n",
        "        if train_acc is not None:\n",
        "            self.batch_accuracies.append(train_acc)\n",
        "\n",
        "    def plot_batch_accuracies(self):\n",
        "        plt.figure(figsize=(12, 6))\n",
        "        plt.plot(np.arange(len(self.batch_accuracies)), self.batch_accuracies)\n",
        "        plt.title('Training Accuracy per Batch')\n",
        "        plt.xlabel('Batch')\n",
        "        plt.ylabel('Accuracy')\n",
        "        plt.savefig('batch_accuracies.png', dpi=300)\n",
        "        plt.show()"
      ],
      "metadata": {
        "id": "5P4yknp-l96_"
      },
      "execution_count": 2,
      "outputs": []
    },
    {
      "cell_type": "code",
      "source": [
        "# Load and preprocess data\n",
        "def load_and_preprocess_data(data_dir, image_height, image_width, batch_size):\n",
        "    datagen = ImageDataGenerator(\n",
        "        rescale=1./255,\n",
        "        rotation_range=40,\n",
        "        width_shift_range=0.2,\n",
        "        height_shift_range=0.2,\n",
        "        shear_range=0.2,\n",
        "        zoom_range=0.2,\n",
        "        horizontal_flip=True,\n",
        "        fill_mode='nearest'\n",
        "    )\n",
        "\n",
        "    train_data = datagen.flow_from_directory(\n",
        "        os.path.join(data_dir, 'Train'),\n",
        "        target_size=(image_height, image_width),\n",
        "        batch_size=batch_size,\n",
        "        class_mode='binary',\n",
        "        classes=['Fake', 'Real']\n",
        "    )\n",
        "\n",
        "    val_datagen = ImageDataGenerator(rescale=1./255)\n",
        "    val_data = val_datagen.flow_from_directory(\n",
        "        os.path.join(data_dir, 'Valid'),\n",
        "        target_size=(image_height, image_width),\n",
        "        batch_size=batch_size,\n",
        "        class_mode='binary',\n",
        "        classes=['Fake', 'Real']\n",
        "    )\n",
        "    print(data_dir)\n",
        "    print(f\"Found {train_data.samples} training samples.\")\n",
        "    print(f\"Found {val_data.samples} validation samples.\")\n",
        "    return train_data, val_data"
      ],
      "metadata": {
        "id": "Jl3tSzHwFdni"
      },
      "execution_count": 3,
      "outputs": []
    },
    {
      "cell_type": "code",
      "source": [
        "# Define the model architecture\n",
        "def create_model(input_shape, random_state=42):\n",
        "    tf.random.set_seed(random_state)\n",
        "    \n",
        "    model = Sequential([\n",
        "        Conv2D(32, (3, 3), activation='relu', input_shape=input_shape),\n",
        "        MaxPooling2D((2, 2)),\n",
        "        Conv2D(64, (3, 3), activation='relu'),\n",
        "        MaxPooling2D((2, 2)),\n",
        "        Flatten(),\n",
        "        Dense(128, activation='relu'),\n",
        "        Dropout(0.5),\n",
        "        Dense(1, activation='sigmoid')\n",
        "    ])\n",
        "    return model"
      ],
      "metadata": {
        "id": "a4hYn1MfNKAd"
      },
      "execution_count": 4,
      "outputs": []
    },
    {
      "cell_type": "code",
      "source": [
        "#Train the model\n",
        "def train_model(model, train_data, val_data, epochs=50):\n",
        "    model.compile(optimizer=Adam(learning_rate=0.001), loss='binary_crossentropy', \n",
        "                  metrics=['accuracy'])\n",
        "    \n",
        "    early_stopping_loss = EarlyStopping(monitor='val_loss', patience=5, \n",
        "                                        restore_best_weights=True)\n",
        "    early_stopping_accuracy = EarlyStoppingByAccuracy(threshold=0.99)\n",
        "    batch_accuracy_logger = BatchAccuracyLogger()\n",
        "    \n",
        "    history = model.fit(train_data, epochs=epochs, validation_data=val_data, \n",
        "                        callbacks=[early_stopping_loss, early_stopping_accuracy, \n",
        "                                   batch_accuracy_logger], \n",
        "                        steps_per_epoch=train_data.samples // train_data.batch_size, \n",
        "                        validation_steps=val_data.samples // val_data.batch_size)\n",
        "    \n",
        "    return model, history, batch_accuracy_logger"
      ],
      "metadata": {
        "id": "Ns5PEfMgnWIR"
      },
      "execution_count": 5,
      "outputs": []
    },
    {
      "cell_type": "code",
      "source": [
        "# Evaluate the model\n",
        "def evaluate_model(model, test_data):\n",
        "    test_loss, test_acc = model.evaluate(test_data, steps=test_data.samples // test_data.batch_size)\n",
        "    print(f\"Test accuracy: {test_acc:.2f}\")\n",
        "\n",
        "def predict_example(model, image_path, image_height, image_width):\n",
        "    img = load_img(image_path, target_size=(image_height, image_width))\n",
        "    img_array = img_to_array(img)\n",
        "    img_array = img_array / 255.0\n",
        "    img_array = img_array.reshape((1, image_height, image_width, 3))\n",
        "\n",
        "    prediction = model.predict(img_array)\n",
        "    return \"real\" if prediction[0][0] > 0.5 else \"fake\"\n",
        "\n",
        "def plot_training_history(history):\n",
        "    acc = history.history['accuracy']\n",
        "    val_acc = history.history['val_accuracy']\n",
        "    loss = history.history['loss']\n",
        "    val_loss = history.history['val_loss']\n",
        "\n",
        "    epochs = range(1, len(acc) + 1)\n",
        "\n",
        "    plt.figure()\n",
        "    plt.plot(epochs, acc, 'bo', label='Training accuracy')\n",
        "    plt.plot(epochs, val_acc, 'b', label='Validation accuracy')\n",
        "    plt.title('Training and validation accuracy')\n",
        "    plt.legend()\n",
        "    plt.savefig('training_validation_accuracy.png')  # Save the accuracy plot\n",
        "\n",
        "    plt.figure()\n",
        "    plt.plot(epochs, loss, 'bo', label='Training loss')\n",
        "    plt.plot(epochs, val_loss, 'b', label='Validation loss')\n",
        "    plt.title('Training and validation loss')\n",
        "    plt.legend()\n",
        "    plt.savefig('training_validation_loss.png')  # Save the loss plot\n",
        "\n",
        "    plt.show()\n",
        "\n",
        "def main():\n",
        "    # Mount your Google Drive\n",
        "    drive.mount('/content/drive')\n",
        "\n",
        "    # Set the data directory (adjust the path according to your Google Drive structure)\n",
        "    data_dir = \"/content/drive/MyDrive/Group_Project_Data/Group_Project_Data\"\n",
        "    \n",
        "    image_height, image_width, num_channels = 150, 150, 3\n",
        "    batch_size = 32\n",
        "    train_data, val_data = load_and_preprocess_data(data_dir, image_height, \n",
        "                                                    image_width, batch_size)\n",
        "    input_shape = (image_height, image_width, num_channels)\n",
        "    model = create_model(input_shape)\n",
        "    model, history, batch_accuracy_logger = train_model(model, train_data, val_data)\n",
        "    model.save('model.h5')\n",
        "    \n",
        "    # Download the trained model\n",
        "    files.download('model.h5')\n",
        "    \n",
        "    # Plot training history\n",
        "    plot_training_history(history)\n",
        "    batch_accuracy_logger.plot_batch_accuracies()\n",
        "    \n",
        "    # Save and download the generated images\n",
        "    plt.savefig('training_validation_accuracy.png')\n",
        "    files.download('training_validation_accuracy.png')\n",
        "    plt.savefig('training_validation_loss.png')\n",
        "    files.download('training_validation_loss.png')\n",
        "    plt.savefig('batch_accuracies.png')\n",
        "    files.download('batch_accuracies.png')\n",
        "    \n",
        "    # Predict a single example\n",
        "    image_path = os.path.join(data_dir, \"Valid\", \"Real\", \"img_2.png\")\n",
        "    prediction = predict_example(model, image_path, image_height, image_width)\n",
        "    print(f\"Prediction: {prediction}\")\n",
        "\n",
        "if __name__ == '__main__':\n",
        "    main()"
      ],
      "metadata": {
        "colab": {
          "base_uri": "https://localhost:8080/",
          "height": 1000
        },
        "id": "tY04zAYqnWro",
        "outputId": "8d250c3a-6550-4e38-b0c7-d39b70166025"
      },
      "execution_count": 6,
      "outputs": [
        {
          "output_type": "stream",
          "name": "stdout",
          "text": [
            "Mounted at /content/drive\n",
            "Found 6000 images belonging to 2 classes.\n",
            "Found 2000 images belonging to 2 classes.\n",
            "/content/drive/MyDrive/Group_Project_Data/Group_Project_Data\n",
            "Found 6000 training samples.\n",
            "Found 2000 validation samples.\n",
            "Epoch 1/50\n",
            "187/187 [==============================] - ETA: 0s - loss: 0.1001 - accuracy: 0.9605\n",
            "Reached 99.0% validation accuracy. Stopping training.\n",
            "187/187 [==============================] - 1862s 10s/step - loss: 0.1001 - accuracy: 0.9605 - val_loss: 0.0167 - val_accuracy: 0.9965\n"
          ]
        },
        {
          "output_type": "display_data",
          "data": {
            "text/plain": [
              "<IPython.core.display.Javascript object>"
            ],
            "application/javascript": [
              "\n",
              "    async function download(id, filename, size) {\n",
              "      if (!google.colab.kernel.accessAllowed) {\n",
              "        return;\n",
              "      }\n",
              "      const div = document.createElement('div');\n",
              "      const label = document.createElement('label');\n",
              "      label.textContent = `Downloading \"${filename}\": `;\n",
              "      div.appendChild(label);\n",
              "      const progress = document.createElement('progress');\n",
              "      progress.max = size;\n",
              "      div.appendChild(progress);\n",
              "      document.body.appendChild(div);\n",
              "\n",
              "      const buffers = [];\n",
              "      let downloaded = 0;\n",
              "\n",
              "      const channel = await google.colab.kernel.comms.open(id);\n",
              "      // Send a message to notify the kernel that we're ready.\n",
              "      channel.send({})\n",
              "\n",
              "      for await (const message of channel.messages) {\n",
              "        // Send a message to notify the kernel that we're ready.\n",
              "        channel.send({})\n",
              "        if (message.buffers) {\n",
              "          for (const buffer of message.buffers) {\n",
              "            buffers.push(buffer);\n",
              "            downloaded += buffer.byteLength;\n",
              "            progress.value = downloaded;\n",
              "          }\n",
              "        }\n",
              "      }\n",
              "      const blob = new Blob(buffers, {type: 'application/binary'});\n",
              "      const a = document.createElement('a');\n",
              "      a.href = window.URL.createObjectURL(blob);\n",
              "      a.download = filename;\n",
              "      div.appendChild(a);\n",
              "      a.click();\n",
              "      div.remove();\n",
              "    }\n",
              "  "
            ]
          },
          "metadata": {}
        },
        {
          "output_type": "display_data",
          "data": {
            "text/plain": [
              "<IPython.core.display.Javascript object>"
            ],
            "application/javascript": [
              "download(\"download_4e6c13b4-5c40-410c-ab76-6c10e7a6771c\", \"model.h5\", 127682336)"
            ]
          },
          "metadata": {}
        },
        {
          "output_type": "display_data",
          "data": {
            "text/plain": [
              "<Figure size 640x480 with 1 Axes>"
            ],
            "image/png": "[encoded data removed]"
          },
          "metadata": {}
        },
        {
          "output_type": "display_data",
          "data": {
            "text/plain": [
              "<Figure size 640x480 with 1 Axes>"
            ],
            "image/png": "[encoded data removed]"
          },
          "metadata": {}
        },
        {
          "output_type": "display_data",
          "data": {
            "text/plain": [
              "<Figure size 1200x600 with 1 Axes>"
            ],
            "image/png": "[encoded data removed]"
          },
          "metadata": {}
        },
        {
          "output_type": "display_data",
          "data": {
            "text/plain": [
              "<IPython.core.display.Javascript object>"
            ],
            "application/javascript": [
              "\n",
              "    async function download(id, filename, size) {\n",
              "      if (!google.colab.kernel.accessAllowed) {\n",
              "        return;\n",
              "      }\n",
              "      const div = document.createElement('div');\n",
              "      const label = document.createElement('label');\n",
              "      label.textContent = `Downloading \"${filename}\": `;\n",
              "      div.appendChild(label);\n",
              "      const progress = document.createElement('progress');\n",
              "      progress.max = size;\n",
              "      div.appendChild(progress);\n",
              "      document.body.appendChild(div);\n",
              "\n",
              "      const buffers = [];\n",
              "      let downloaded = 0;\n",
              "\n",
              "      const channel = await google.colab.kernel.comms.open(id);\n",
              "      // Send a message to notify the kernel that we're ready.\n",
              "      channel.send({})\n",
              "\n",
              "      for await (const message of channel.messages) {\n",
              "        // Send a message to notify the kernel that we're ready.\n",
              "        channel.send({})\n",
              "        if (message.buffers) {\n",
              "          for (const buffer of message.buffers) {\n",
              "            buffers.push(buffer);\n",
              "            downloaded += buffer.byteLength;\n",
              "            progress.value = downloaded;\n",
              "          }\n",
              "        }\n",
              "      }\n",
              "      const blob = new Blob(buffers, {type: 'application/binary'});\n",
              "      const a = document.createElement('a');\n",
              "      a.href = window.URL.createObjectURL(blob);\n",
              "      a.download = filename;\n",
              "      div.appendChild(a);\n",
              "      a.click();\n",
              "      div.remove();\n",
              "    }\n",
              "  "
            ]
          },
          "metadata": {}
        },
        {
          "output_type": "display_data",
          "data": {
            "text/plain": [
              "<IPython.core.display.Javascript object>"
            ],
            "application/javascript": [
              "download(\"download_1613ca0d-c17c-41aa-825e-8867eb55a689\", \"training_validation_accuracy.png\", 2396)"
            ]
          },
          "metadata": {}
        },
        {
          "output_type": "display_data",
          "data": {
            "text/plain": [
              "<IPython.core.display.Javascript object>"
            ],
            "application/javascript": [
              "\n",
              "    async function download(id, filename, size) {\n",
              "      if (!google.colab.kernel.accessAllowed) {\n",
              "        return;\n",
              "      }\n",
              "      const div = document.createElement('div');\n",
              "      const label = document.createElement('label');\n",
              "      label.textContent = `Downloading \"${filename}\": `;\n",
              "      div.appendChild(label);\n",
              "      const progress = document.createElement('progress');\n",
              "      progress.max = size;\n",
              "      div.appendChild(progress);\n",
              "      document.body.appendChild(div);\n",
              "\n",
              "      const buffers = [];\n",
              "      let downloaded = 0;\n",
              "\n",
              "      const channel = await google.colab.kernel.comms.open(id);\n",
              "      // Send a message to notify the kernel that we're ready.\n",
              "      channel.send({})\n",
              "\n",
              "      for await (const message of channel.messages) {\n",
              "        // Send a message to notify the kernel that we're ready.\n",
              "        channel.send({})\n",
              "        if (message.buffers) {\n",
              "          for (const buffer of message.buffers) {\n",
              "            buffers.push(buffer);\n",
              "            downloaded += buffer.byteLength;\n",
              "            progress.value = downloaded;\n",
              "          }\n",
              "        }\n",
              "      }\n",
              "      const blob = new Blob(buffers, {type: 'application/binary'});\n",
              "      const a = document.createElement('a');\n",
              "      a.href = window.URL.createObjectURL(blob);\n",
              "      a.download = filename;\n",
              "      div.appendChild(a);\n",
              "      a.click();\n",
              "      div.remove();\n",
              "    }\n",
              "  "
            ]
          },
          "metadata": {}
        },
        {
          "output_type": "display_data",
          "data": {
            "text/plain": [
              "<IPython.core.display.Javascript object>"
            ],
            "application/javascript": [
              "download(\"download_38ca5f8e-f0db-4e78-bcda-5364845d24af\", \"training_validation_loss.png\", 2396)"
            ]
          },
          "metadata": {}
        },
        {
          "output_type": "display_data",
          "data": {
            "text/plain": [
              "<IPython.core.display.Javascript object>"
            ],
            "application/javascript": [
              "\n",
              "    async function download(id, filename, size) {\n",
              "      if (!google.colab.kernel.accessAllowed) {\n",
              "        return;\n",
              "      }\n",
              "      const div = document.createElement('div');\n",
              "      const label = document.createElement('label');\n",
              "      label.textContent = `Downloading \"${filename}\": `;\n",
              "      div.appendChild(label);\n",
              "      const progress = document.createElement('progress');\n",
              "      progress.max = size;\n",
              "      div.appendChild(progress);\n",
              "      document.body.appendChild(div);\n",
              "\n",
              "      const buffers = [];\n",
              "      let downloaded = 0;\n",
              "\n",
              "      const channel = await google.colab.kernel.comms.open(id);\n",
              "      // Send a message to notify the kernel that we're ready.\n",
              "      channel.send({})\n",
              "\n",
              "      for await (const message of channel.messages) {\n",
              "        // Send a message to notify the kernel that we're ready.\n",
              "        channel.send({})\n",
              "        if (message.buffers) {\n",
              "          for (const buffer of message.buffers) {\n",
              "            buffers.push(buffer);\n",
              "            downloaded += buffer.byteLength;\n",
              "            progress.value = downloaded;\n",
              "          }\n",
              "        }\n",
              "      }\n",
              "      const blob = new Blob(buffers, {type: 'application/binary'});\n",
              "      const a = document.createElement('a');\n",
              "      a.href = window.URL.createObjectURL(blob);\n",
              "      a.download = filename;\n",
              "      div.appendChild(a);\n",
              "      a.click();\n",
              "      div.remove();\n",
              "    }\n",
              "  "
            ]
          },
          "metadata": {}
        },
        {
          "output_type": "display_data",
          "data": {
            "text/plain": [
              "<IPython.core.display.Javascript object>"
            ],
            "application/javascript": [
              "download(\"download_8c4100bf-0e6c-4a39-96b0-2ddf303277d9\", \"batch_accuracies.png\", 2396)"
            ]
          },
          "metadata": {}
        },
        {
          "output_type": "stream",
          "name": "stdout",
          "text": [
            "1/1 [==============================] - 0s 189ms/step\n",
            "Prediction: real\n"
          ]
        },
        {
          "output_type": "display_data",
          "data": {
            "text/plain": [
              "<Figure size 640x480 with 0 Axes>"
            ]
          },
          "metadata": {}
        }
      ]
    }
  ]
}